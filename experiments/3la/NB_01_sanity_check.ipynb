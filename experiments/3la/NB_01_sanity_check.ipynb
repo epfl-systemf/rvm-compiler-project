{
 "cells": [
  {
   "cell_type": "code",
   "execution_count": 1,
   "metadata": {},
   "outputs": [],
   "source": [
    "import tvm\n",
    "from tvm import relay\n",
    "import tvm.testing\n",
    "from tvm.contrib import graph_executor\n",
    "from tvm.relay import ExprMutator\n",
    "import numpy as np\n",
    "\n",
    "import torch\n",
    "\n",
    "CLASSES = ('plane', 'car', 'bird', 'cat',\n",
    "           'deer', 'dog', 'frog', 'horse', 'ship', 'truck')\n",
    "INPUT_PREFIX = \"input\"\n",
    "BATCH_SIZE = 32\n",
    "DIFF_THRESHOLD = 1e-5\n",
    "\n",
    "def execute_tvm_model(relay_model):\n",
    "#    relay_model.set_input(f\"{INPUT_PREFIX}_0\", images)\n",
    "    relay_model.run()\n",
    "    return torch.from_numpy(\n",
    "        relay_model.get_output(0).asnumpy()\n",
    "    )\n",
    "\n",
    "def compile_into_tvm(mod, params):\n",
    "    with tvm.transform.PassContext(opt_level=0):\n",
    "        relay_graph, relay_lib, relay_params = relay.build(\n",
    "            mod, target=\"llvm\", params=params\n",
    "        )\n",
    "    relay_model = graph_executor.create(relay_graph, relay_lib, tvm.cpu(0))\n",
    "    relay_model.set_input(**relay_params)\n",
    "    return relay_model"
   ]
  },
  {
   "cell_type": "code",
   "execution_count": 5,
   "metadata": {},
   "outputs": [
    {
     "ename": "AttributeError",
     "evalue": "AttributeError: relay.attrs.StridedSliceAttrs: Cannot find required field 'axes' during initialization. If the key is defined check that its type matches the declared type.",
     "output_type": "error",
     "traceback": [
      "\u001b[0;31m---------------------------------------------------------------------------\u001b[0m",
      "\u001b[0;31mAttributeError\u001b[0m                            Traceback (most recent call last)",
      "Cell \u001b[0;32mIn[5], line 4\u001b[0m\n\u001b[1;32m      1\u001b[0m \u001b[38;5;28;01mwith\u001b[39;00m \u001b[38;5;28mopen\u001b[39m(\u001b[38;5;124m\"\u001b[39m\u001b[38;5;124m/home/julien/3la-evaluation/flexmatch/tests/models/conv2d-im2col.relay\u001b[39m\u001b[38;5;124m\"\u001b[39m, \u001b[38;5;124m\"\u001b[39m\u001b[38;5;124mr\u001b[39m\u001b[38;5;124m\"\u001b[39m) \u001b[38;5;28;01mas\u001b[39;00m fp:\n\u001b[1;32m      2\u001b[0m     new_mod_text \u001b[38;5;241m=\u001b[39m fp\u001b[38;5;241m.\u001b[39mread()\n\u001b[0;32m----> 4\u001b[0m new_mod \u001b[38;5;241m=\u001b[39m \u001b[43mtvm\u001b[49m\u001b[38;5;241;43m.\u001b[39;49m\u001b[43mparser\u001b[49m\u001b[38;5;241;43m.\u001b[39;49m\u001b[43mfromtext\u001b[49m\u001b[43m(\u001b[49m\u001b[43mnew_mod_text\u001b[49m\u001b[43m)\u001b[49m\n\u001b[1;32m      6\u001b[0m dev \u001b[38;5;241m=\u001b[39m tvm\u001b[38;5;241m.\u001b[39mcpu(\u001b[38;5;241m0\u001b[39m)\n\u001b[1;32m      7\u001b[0m params \u001b[38;5;241m=\u001b[39m {\u001b[38;5;124m\"\u001b[39m\u001b[38;5;124mdata\u001b[39m\u001b[38;5;124m\"\u001b[39m: tvm\u001b[38;5;241m.\u001b[39mnd\u001b[38;5;241m.\u001b[39marray(np\u001b[38;5;241m.\u001b[39mrandom\u001b[38;5;241m.\u001b[39muniform(size\u001b[38;5;241m=\u001b[39m(\u001b[38;5;241m1\u001b[39m,\u001b[38;5;241m3\u001b[39m,\u001b[38;5;241m32\u001b[39m,\u001b[38;5;241m32\u001b[39m))\u001b[38;5;241m.\u001b[39mastype(\u001b[38;5;124m\"\u001b[39m\u001b[38;5;124mfloat32\u001b[39m\u001b[38;5;124m\"\u001b[39m), dev), \n\u001b[1;32m      8\u001b[0m            \u001b[38;5;124m\"\u001b[39m\u001b[38;5;124mweights\u001b[39m\u001b[38;5;124m\"\u001b[39m: tvm\u001b[38;5;241m.\u001b[39mnd\u001b[38;5;241m.\u001b[39marray(np\u001b[38;5;241m.\u001b[39mrandom\u001b[38;5;241m.\u001b[39muniform(size\u001b[38;5;241m=\u001b[39m(\u001b[38;5;241m2\u001b[39m,\u001b[38;5;241m3\u001b[39m,\u001b[38;5;241m16\u001b[39m,\u001b[38;5;241m16\u001b[39m))\u001b[38;5;241m.\u001b[39mastype(\u001b[38;5;124m\"\u001b[39m\u001b[38;5;124mfloat32\u001b[39m\u001b[38;5;124m\"\u001b[39m), dev)}\n",
      "File \u001b[0;32m~/3la-evaluation/3la-tvm/python/tvm/parser/__init__.py:40\u001b[0m, in \u001b[0;36mfromtext\u001b[0;34m(source, source_name)\u001b[0m\n\u001b[1;32m     39\u001b[0m \u001b[38;5;28;01mdef\u001b[39;00m \u001b[38;5;21mfromtext\u001b[39m(source, source_name\u001b[38;5;241m=\u001b[39m\u001b[38;5;124m\"\u001b[39m\u001b[38;5;124mfrom_string\u001b[39m\u001b[38;5;124m\"\u001b[39m):\n\u001b[0;32m---> 40\u001b[0m     \u001b[38;5;28;01mreturn\u001b[39;00m \u001b[43mparse\u001b[49m\u001b[43m(\u001b[49m\u001b[43msource\u001b[49m\u001b[43m,\u001b[49m\u001b[43m \u001b[49m\u001b[43msource_name\u001b[49m\u001b[43m)\u001b[49m\n",
      "File \u001b[0;32m~/3la-evaluation/3la-tvm/python/tvm/parser/__init__.py:32\u001b[0m, in \u001b[0;36mparse\u001b[0;34m(source, source_name, init_module, init_meta_table)\u001b[0m\n\u001b[1;32m     30\u001b[0m \u001b[38;5;28;01mif\u001b[39;00m init_meta_table \u001b[38;5;129;01mis\u001b[39;00m \u001b[38;5;28;01mNone\u001b[39;00m:\n\u001b[1;32m     31\u001b[0m     init_meta_table \u001b[38;5;241m=\u001b[39m {}\n\u001b[0;32m---> 32\u001b[0m \u001b[38;5;28;01mreturn\u001b[39;00m \u001b[43m_ffi_api\u001b[49m\u001b[38;5;241;43m.\u001b[39;49m\u001b[43mParseModuleInContext\u001b[49m\u001b[43m(\u001b[49m\u001b[43msource_name\u001b[49m\u001b[43m,\u001b[49m\u001b[43m \u001b[49m\u001b[43msource\u001b[49m\u001b[43m,\u001b[49m\u001b[43m \u001b[49m\u001b[43minit_module\u001b[49m\u001b[43m,\u001b[49m\u001b[43m \u001b[49m\u001b[43minit_meta_table\u001b[49m\u001b[43m)\u001b[49m\n",
      "File \u001b[0;32m~/3la-evaluation/3la-tvm/python/tvm/_ffi/_ctypes/packed_func.py:237\u001b[0m, in \u001b[0;36mPackedFuncBase.__call__\u001b[0;34m(self, *args)\u001b[0m\n\u001b[1;32m    225\u001b[0m ret_tcode \u001b[38;5;241m=\u001b[39m ctypes\u001b[38;5;241m.\u001b[39mc_int()\n\u001b[1;32m    226\u001b[0m \u001b[38;5;28;01mif\u001b[39;00m (\n\u001b[1;32m    227\u001b[0m     _LIB\u001b[38;5;241m.\u001b[39mTVMFuncCall(\n\u001b[1;32m    228\u001b[0m         \u001b[38;5;28mself\u001b[39m\u001b[38;5;241m.\u001b[39mhandle,\n\u001b[0;32m   (...)\u001b[0m\n\u001b[1;32m    235\u001b[0m     \u001b[38;5;241m!=\u001b[39m \u001b[38;5;241m0\u001b[39m\n\u001b[1;32m    236\u001b[0m ):\n\u001b[0;32m--> 237\u001b[0m     \u001b[38;5;28;01mraise\u001b[39;00m get_last_ffi_error()\n\u001b[1;32m    238\u001b[0m _ \u001b[38;5;241m=\u001b[39m temp_args\n\u001b[1;32m    239\u001b[0m _ \u001b[38;5;241m=\u001b[39m args\n",
      "\u001b[0;31mAttributeError\u001b[0m: AttributeError: relay.attrs.StridedSliceAttrs: Cannot find required field 'axes' during initialization. If the key is defined check that its type matches the declared type."
     ]
    }
   ],
   "source": [
    "with open(\"/home/julien/3la-evaluation/flexmatch/tests/models/conv2d-im2col.relay\", \"r\") as fp:\n",
    "    new_mod_text = fp.read()\n",
    "\n",
    "new_mod = tvm.parser.fromtext(new_mod_text)\n",
    "\n",
    "dev = tvm.cpu(0)\n",
    "params = {\"data\": tvm.nd.array(np.random.uniform(size=(1,3,32,32)).astype(\"float32\"), dev), \n",
    "           \"weights\": tvm.nd.array(np.random.uniform(size=(2,3,16,16)).astype(\"float32\"), dev)}\n",
    "\n",
    "mod2 =compile_into_tvm(new_mod, params)\n",
    "print(execute_tvm_model(mod2))"
   ]
  }
 ],
 "metadata": {
  "kernelspec": {
   "display_name": "3la",
   "language": "python",
   "name": "python3"
  },
  "language_info": {
   "codemirror_mode": {
    "name": "ipython",
    "version": 3
   },
   "file_extension": ".py",
   "mimetype": "text/x-python",
   "name": "python",
   "nbconvert_exporter": "python",
   "pygments_lexer": "ipython3",
   "version": "3.8.18"
  }
 },
 "nbformat": 4,
 "nbformat_minor": 2
}
