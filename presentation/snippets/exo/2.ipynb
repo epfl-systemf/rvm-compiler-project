{
 "cells": [
  {
   "cell_type": "code",
   "execution_count": 1,
   "metadata": {},
   "outputs": [],
   "source": [
    "from __future__ import annotations\n",
    "import os\n",
    "import sys\n",
    "from exo import proc\n",
    "from exo.libs.memories import *\n",
    "from exo.platforms.x86 import *\n",
    "from exo.stdlib.scheduling import *\n",
    "from exo.stdlib.stdlib import *\n",
    "from helpers import *\n",
    "\n",
    "from hw_lib import *\n",
    "\n",
    "N = 128\n",
    "@proc\n",
    "def matmul(\n",
    "    A: i32[N, N] @ DRAM, \n",
    "    B: i32[N, N] @ DRAM, \n",
    "    C: i32[N, N] @ DRAM\n",
    "):\n",
    "    for i in seq(0, 16):\n",
    "        for j in seq(0, 16):\n",
    "            for k in seq(0, 16):\n",
    "                for ti in seq(0, 4):\n",
    "                    for tj in seq(0, 4):\n",
    "                        for tk in seq(0, 4):\n",
    "                            C[i*4+ti,j*4+tj] += A[i*4+ti,k*4+tk] * B[j*4+tj,k*4+tk]"
   ]
  },
  {
   "cell_type": "code",
   "execution_count": 2,
   "metadata": {},
   "outputs": [
    {
     "name": "stdout",
     "output_type": "stream",
     "text": [
      "def matmul(A: i32[128, 128] @ DRAM, B: i32[128, 128] @ DRAM,\n",
      "           C: i32[128, 128] @ DRAM):\n",
      "    for i in seq(0, 16):\n",
      "        for j in seq(0, 16):\n",
      "            for k in seq(0, 16):\n",
      "                A_tile: i32[4, 4] @ DRAM\n",
      "                for i0 in seq(0, 4):\n",
      "                    for i1 in seq(0, 4):\n",
      "                        A_tile[i0, i1] = A[i0 + 4 * i, i1 + 4 * k]\n",
      "                for ti in seq(0, 4):\n",
      "                    for tj in seq(0, 4):\n",
      "                        for tk in seq(0, 4):\n",
      "                            C[ti + 4 * i,\n",
      "                              tj + 4 * j] += A_tile[ti, tk] * B[tj + 4 * j,\n",
      "                                                                tk + 4 * k]\n"
     ]
    }
   ],
   "source": [
    "# Staging data tile load \n",
    "        \n",
    "matmul = simplify(stage_mem(matmul, 'for ti in _:_', f'A[i*4:i*4+4, k*4:k*4+4]', \"A_tile\"))\n",
    "print(matmul)"
   ]
  },
  {
   "cell_type": "code",
   "execution_count": 3,
   "metadata": {},
   "outputs": [
    {
     "name": "stdout",
     "output_type": "stream",
     "text": [
      "def matmul(A: i32[128, 128] @ DRAM, B: i32[128, 128] @ DRAM,\n",
      "           C: i32[128, 128] @ DRAM):\n",
      "    for i in seq(0, 16):\n",
      "        for j in seq(0, 16):\n",
      "            for k in seq(0, 16):\n",
      "                A_tile: i32[4, 4] @ RVM_TILE\n",
      "                for i0 in seq(0, 4):\n",
      "                    for i1 in seq(0, 4):\n",
      "                        A_tile[i0, i1] = A[i0 + 4 * i, i1 + 4 * k]\n",
      "                for ti in seq(0, 4):\n",
      "                    for tj in seq(0, 4):\n",
      "                        for tk in seq(0, 4):\n",
      "                            C[ti + 4 * i,\n",
      "                              tj + 4 * j] += A_tile[ti, tk] * B[tj + 4 * j,\n",
      "                                                                tk + 4 * k]\n"
     ]
    }
   ],
   "source": [
    "# Instruct Exo to use an RVM_TILE memory\n",
    "matmul = simplify(set_memory(matmul, \"A_tile\", RVM_TILE))\n",
    "print(matmul)"
   ]
  },
  {
   "cell_type": "code",
   "execution_count": 4,
   "metadata": {},
   "outputs": [
    {
     "name": "stdout",
     "output_type": "stream",
     "text": [
      "def matmul(A: i32[128, 128] @ DRAM, B: i32[128, 128] @ DRAM,\n",
      "           C: i32[128, 128] @ DRAM):\n",
      "    for i in seq(0, 16):\n",
      "        for j in seq(0, 16):\n",
      "            for k in seq(0, 16):\n",
      "                A_tile: i32[4, 4] @ RVM_TILE\n",
      "                rvm_mld(A_tile[0:4, 0:4], A[4 * i + 0:4 * i + 4,\n",
      "                                            4 * k + 0:4 * k + 4])\n",
      "                for ti in seq(0, 4):\n",
      "                    for tj in seq(0, 4):\n",
      "                        for tk in seq(0, 4):\n",
      "                            C[ti + 4 * i,\n",
      "                              tj + 4 * j] += A_tile[ti, tk] * B[tj + 4 * j,\n",
      "                                                                tk + 4 * k]\n"
     ]
    }
   ],
   "source": [
    "# Replace for loop with special procedure\n",
    "matmul = replace(matmul, \"for i0 in _:_\", rvm_mld)\n",
    "print(matmul)"
   ]
  },
  {
   "cell_type": "code",
   "execution_count": 5,
   "metadata": {},
   "outputs": [
    {
     "name": "stdout",
     "output_type": "stream",
     "text": [
      "def matmul(A: i32[128, 128] @ DRAM, B: i32[128, 128] @ DRAM,\n",
      "           C: i32[128, 128] @ DRAM):\n",
      "    for i in seq(0, 16):\n",
      "        for j in seq(0, 16):\n",
      "            C_tile: i32[4, 4] @ RVM_TILE\n",
      "            rvm_mld(C_tile[0:4, 0:4], C[4 * i + 0:4 * i + 4,\n",
      "                                        4 * j + 0:4 * j + 4])\n",
      "            for k in seq(0, 16):\n",
      "                A_tile: i32[4, 4] @ RVM_TILE\n",
      "                rvm_mld(A_tile[0:4, 0:4], A[4 * i:4 + 4 * i, 4 * k:4 + 4 * k])\n",
      "                B_tile: i32[4, 4] @ RVM_TILE\n",
      "                rvm_mld(B_tile[0:4, 0:4], B[4 * j:4 + 4 * j, 4 * k:4 + 4 * k])\n",
      "                rvm_mmasa(C_tile[0:4, 0:4], B_tile[0:4, 0:4], A_tile[0:4, 0:4])\n",
      "            rvm_mst(C_tile[0:4, 0:4], C[4 * i + 0:4 * i + 4,\n",
      "                                        4 * j + 0:4 * j + 4])\n"
     ]
    }
   ],
   "source": [
    "# Setting up kernel tile load\n",
    "matmul = stage_mem(matmul, 'for ti in _:_', f'B[j*4:j*4+4,k*4:k*4+4]', \"B_tile\")\n",
    "matmul = set_memory(matmul, \"B_tile\", RVM_TILE)\n",
    "matmul = replace(matmul, \"for i0 in _:_\", rvm_mld)\n",
    "\n",
    "# Setting up output tiles\n",
    "matmul = stage_mem(matmul, 'for k in _:_', f'C[i*4:i*4+4,j*4:j*4+4]', \"C_tile\")\n",
    "matmul = set_memory(matmul, \"C_tile\", RVM_TILE)\n",
    "matmul = simplify(matmul)\n",
    "matmul = replace(matmul, \"for i0 in _:_\", rvm_mld)\n",
    "matmul = replace(matmul, \"for ti in _:_\", rvm_mmasa)\n",
    "matmul = replace(matmul, \"for i0 in _:_\", rvm_mst)\n",
    "\n",
    "print(matmul)"
   ]
  }
 ],
 "metadata": {
  "kernelspec": {
   "display_name": "Python 3",
   "language": "python",
   "name": "python3"
  },
  "language_info": {
   "codemirror_mode": {
    "name": "ipython",
    "version": 3
   },
   "file_extension": ".py",
   "mimetype": "text/x-python",
   "name": "python",
   "nbconvert_exporter": "python",
   "pygments_lexer": "ipython3",
   "version": "3.10.12"
  }
 },
 "nbformat": 4,
 "nbformat_minor": 2
}
